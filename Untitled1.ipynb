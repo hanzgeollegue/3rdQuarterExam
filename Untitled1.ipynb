{
  "nbformat": 4,
  "nbformat_minor": 0,
  "metadata": {
    "colab": {
      "provenance": []
    },
    "kernelspec": {
      "name": "python3",
      "display_name": "Python 3"
    },
    "language_info": {
      "name": "python"
    }
  },
  "cells": [
    {
      "cell_type": "code",
      "execution_count": 2,
      "metadata": {
        "colab": {
          "base_uri": "https://localhost:8080/"
        },
        "id": "W-PdvN6AbN0m",
        "outputId": "eec3c2c7-baf9-4e29-c524-c668f918d4d5"
      },
      "outputs": [
        {
          "output_type": "stream",
          "name": "stdout",
          "text": [
            "Solution (Unknowns):\n",
            "[ 7.36462094 32.23826715 -1.62454874 15.05415162 16.93140794]\n"
          ]
        }
      ],
      "source": [
        "import numpy as np\n",
        "\n",
        "\n",
        "A = np.array([\n",
        "    [3, 2, 1, 1, 0],\n",
        "    [1, 4, 2, 0, 1],\n",
        "    [2, 3, 4, 1, 0],\n",
        "    [1, 1, 3, 5, 0],\n",
        "    [0, 1, 2, 4, 3]\n",
        "])\n",
        "\n",
        "\n",
        "B = np.array([100, 150, 120, 110, 140])\n",
        "\n",
        "\n",
        "\n",
        "det_A = np.linalg.det(A)\n",
        "if det_A == 0:\n",
        "    print(\"Matrix A is singular and cannot be inverted!\")\n",
        "else:\n",
        "\n",
        "    A_inv = np.linalg.inv(A)\n",
        "\n",
        "\n",
        "    X = np.dot(A_inv, B)\n",
        "\n",
        "    print(\"Solution (Unknowns):\")\n",
        "    print(X)\n"
      ]
    },
    {
      "cell_type": "markdown",
      "source": [
        "Problem 1:\n"
      ],
      "metadata": {
        "id": "E2R63eFIgqDz"
      }
    },
    {
      "cell_type": "code",
      "source": [
        "A1 = np.array([\n",
        "    [2, 1, -1],\n",
        "    [-1, 3, 2],\n",
        "    [1, -2, 4]\n",
        "])\n",
        "\n",
        "B1 = np.array([5, 6, 7])\n",
        "\n",
        "det_A1 = np.linalg.det(A1)\n",
        "if det_A1 == 0:\n",
        "    print(\"Matrix A is singular and cannot be inverted!\")\n",
        "else:\n",
        "    A1_inv = np.linalg.inv(A1)\n",
        "    X1 = np.dot(A1_inv, B1)\n",
        "\n",
        "    print(\"Solution (Unknowns):\")\n",
        "    print(X1)"
      ],
      "metadata": {
        "colab": {
          "base_uri": "https://localhost:8080/"
        },
        "id": "4X0JywcKg0Sg",
        "outputId": "32c226e4-f848-4c32-b5e2-b6e129a216f4"
      },
      "execution_count": 3,
      "outputs": [
        {
          "output_type": "stream",
          "name": "stdout",
          "text": [
            "Solution (Unknowns):\n",
            "[2.64102564 1.61538462 1.8974359 ]\n"
          ]
        }
      ]
    },
    {
      "cell_type": "code",
      "source": [
        "A2 = np.array([\n",
        "    [5, 3, 1, 1, 0],\n",
        "    [4, 6, 2, 0, 1],\n",
        "    [2, 7, 3, 1, 0],\n",
        "    [1, 2, 4, 5, 0],\n",
        "    [3, 4, 5, 0, 6]\n",
        "])\n",
        "\n",
        "B2 = np.array([200, 300, 150, 120, 250])\n",
        "\n",
        "det_A2 = np.linalg.det(A2)\n",
        "if det_A2 == 0:\n",
        "    print(\"Matrix A2 is singular and cannot be inverted!\")\n",
        "else:\n",
        "    A2_inv = np.linalg.inv(A2)\n",
        "    X2 = np.dot(A2_inv, B2)\n",
        "\n",
        "    print(\"Solution (Unknowns):\")\n",
        "    print(X2)"
      ],
      "metadata": {
        "colab": {
          "base_uri": "https://localhost:8080/"
        },
        "id": "r1_1HdQOi9x3",
        "outputId": "f06ec61b-ecd7-47db-ab90-34c06c2f8c7b"
      },
      "execution_count": 4,
      "outputs": [
        {
          "output_type": "stream",
          "name": "stdout",
          "text": [
            "Solution (Unknowns):\n",
            "[ -23.86666667  137.6        -336.          242.53333333  241.86666667]\n"
          ]
        }
      ]
    },
    {
      "cell_type": "code",
      "source": [
        "import numpy as np\n",
        "\n",
        "\n",
        "def solve_crypto_system():\n",
        "\n",
        "    A3 = np.array([\n",
        "        [2, 1, 0, 3, 1, 2, 1],\n",
        "        [1, 3, 2, 0, 2, 1, 0],\n",
        "        [0, 2, 4, 1, 0, 3, 2],\n",
        "        [3, 0, 1, 2, 3, 0, 1],\n",
        "        [1, 2, 0, 3, 4, 1, 2],\n",
        "        [2, 1, 3, 0, 1, 5, 0],\n",
        "        [1, 0, 2, 1, 2, 0, 3]\n",
        "    ])\n",
        "\n",
        "\n",
        "    B3 = np.array([10, 12, 14, 16, 18, 20, 22])\n",
        "\n",
        "\n",
        "    det_A3 = np.linalg.det(A3)\n",
        "    if det_A3 == 0:\n",
        "        print(\"Matrix A3 is singular and cannot be inverted!\")\n",
        "        return\n",
        "\n",
        "\n",
        "    A3_inv = np.linalg.inv(A3)\n",
        "    X3 = np.dot(A3_inv, B3)\n",
        "\n",
        "    print(\"Solution for cryptographic transformations:\")\n",
        "    print(X3)\n",
        "\n",
        "\n",
        "solve_crypto_system()"
      ],
      "metadata": {
        "colab": {
          "base_uri": "https://localhost:8080/"
        },
        "id": "9nlWSpw2ltGe",
        "outputId": "e9661839-240b-4f88-825e-6be7a005b054"
      },
      "execution_count": 5,
      "outputs": [
        {
          "output_type": "stream",
          "name": "stdout",
          "text": [
            "Solution for cryptographic transformations:\n",
            "[ 4.02738021  1.05040448 -1.0056005  -4.19290604  2.25015557  2.3322962\n",
            "  6.55880523]\n"
          ]
        }
      ]
    },
    {
      "cell_type": "code",
      "source": [
        "import numpy as np\n",
        "\n",
        "\n",
        "def solve_machine_system():\n",
        "\n",
        "    A4 = np.array([\n",
        "        [4, 2, 1, 3, 2],\n",
        "        [2, 5, 3, 2, 1],\n",
        "        [1, 3, 6, 1, 4],\n",
        "        [3, 2, 1, 4, 2],\n",
        "        [2, 1, 4, 2, 5]\n",
        "    ])\n",
        "\n",
        "\n",
        "    B4 = np.array([100, 150, 200, 250, 300])\n",
        "\n",
        "\n",
        "    det_A4 = np.linalg.det(A4)\n",
        "    if det_A4 == 0:\n",
        "        print(\"Matrix A4 is singular and cannot be inverted!\")\n",
        "        return\n",
        "\n",
        "\n",
        "    A4_inv = np.linalg.inv(A4)\n",
        "    X4 = np.dot(A4_inv, B4)\n",
        "\n",
        "    print(\"Solution for machine components:\")\n",
        "    print(X4)\n",
        "\n",
        "\n",
        "solve_machine_system()"
      ],
      "metadata": {
        "colab": {
          "base_uri": "https://localhost:8080/"
        },
        "id": "qQJXJ3Dol3IY",
        "outputId": "e7b638d0-8f86-4f96-e339-c2c2c8e37a8d"
      },
      "execution_count": 6,
      "outputs": [
        {
          "output_type": "stream",
          "name": "stdout",
          "text": [
            "Solution for machine components:\n",
            "[-90.0990099   59.9009901  -67.82178218  59.9009901  114.35643564]\n"
          ]
        }
      ]
    },
    {
      "cell_type": "code",
      "source": [
        "import numpy as np\n",
        "\n",
        "\n",
        "def solve_system(A, b):\n",
        "    \"\"\"\n",
        "    Solves a system of linear equations using matrix inversion\n",
        "\n",
        "    Parameters:\n",
        "    A (numpy.ndarray): Coefficient matrix\n",
        "    b (numpy.ndarray): Constants vector\n",
        "\n",
        "    Returns:\n",
        "    numpy.ndarray: Solution vector\n",
        "    \"\"\"\n",
        "\n",
        "    if A.shape[0] != A.shape[1]:\n",
        "        raise ValueError(\"Matrix A must be square!\")\n",
        "\n",
        "\n",
        "    if A.shape[0] != b.shape[0]:\n",
        "        raise ValueError(\"Dimensions of A and b must match!\")\n",
        "\n",
        "\n",
        "    det_A = np.linalg.det(A)\n",
        "    if abs(det_A) < 1e-10:\n",
        "        raise ValueError(\"Matrix is singular and cannot be inverted!\")\n",
        "\n",
        "\n",
        "    A_inv = np.linalg.inv(A)\n",
        "    x = np.dot(A_inv, b)\n",
        "\n",
        "    return x\n",
        "\n",
        "\n",
        "A5 = np.array([\n",
        "    [5, 3, 1, 1, 0],\n",
        "    [4, 6, 2, 0, 1],\n",
        "    [2, 7, 3, 1, 0],\n",
        "    [1, 2, 4, 5, 0],\n",
        "    [3, 4, 5, 0, 6]\n",
        "])\n",
        "b5 = np.array([200, 300, 150, 120, 250])\n",
        "\n",
        "try:\n",
        "    solution = solve_system(A5, b5)\n",
        "    print(\"Generic solver solution for network routing problem:\")\n",
        "    print(solution)\n",
        "except ValueError as e:\n",
        "    print(f\"Error: {e}\")"
      ],
      "metadata": {
        "colab": {
          "base_uri": "https://localhost:8080/"
        },
        "id": "kWO1Mp0ZmCOb",
        "outputId": "17469de0-35e2-41f1-b97a-0742a9f243a3"
      },
      "execution_count": 7,
      "outputs": [
        {
          "output_type": "stream",
          "name": "stdout",
          "text": [
            "Generic solver solution for network routing problem:\n",
            "[ -23.86666667  137.6        -336.          242.53333333  241.86666667]\n"
          ]
        }
      ]
    }
  ]
}